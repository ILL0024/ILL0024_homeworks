{
 "cells": [
  {
   "attachments": {},
   "cell_type": "markdown",
   "metadata": {},
   "source": [
    "# Úkoly\n",
    "\n",
    "1. Vygenerujte náhodná data a zobrazte je jako scatter plot pomocí. Nastavte barvu a velikost bodů.\n"
   ]
  },
  {
   "cell_type": "code",
   "execution_count": null,
   "metadata": {},
   "outputs": [],
   "source": [
    "import matplotlib.pyplot as plt\n",
    "import numpy as np\n",
    "\n",
    "\n",
    "x = np.random.randint(0, 50, 100)\n",
    "y = np.random.randint(0, 50, 100)\n",
    "\n",
    "plt.scatter(x, y, s=1, c=\"blue\")\n",
    "plt.show()"
   ]
  },
  {
   "attachments": {},
   "cell_type": "markdown",
   "metadata": {},
   "source": [
    "\n",
    "2. Vykreslete 3D graf s funkcí $$z = \\frac{\\sin(\\sqrt{x^2 + y^2})}{\\sqrt{x^2 + y^2}}$$ Použijte `imagesc` a `contour`.\n"
   ]
  },
  {
   "cell_type": "code",
   "execution_count": null,
   "metadata": {},
   "outputs": [],
   "source": [
    "import matplotlib.pyplot as plt\n",
    "import numpy as np\n",
    "\n",
    "x = np.linspace(0, 20, 100)\n",
    "y = np.linspace(0, 20, 100)\n",
    "X, Y = np.meshgrid(x, y)\n",
    "Z = np.sin(np.sqrt(X**2 + Y**2)) / np.sqrt(X**2 + Y**2)\n",
    "\n",
    "Z = Z.T\n",
    "fig, ax = plt.subplots()\n",
    "p = plt.contour(X, Y, Z)\n",
    "\n"
   ]
  },
  {
   "attachments": {},
   "cell_type": "markdown",
   "metadata": {},
   "source": [
    "\n",
    "3. Vykreslete polar graf s funkcí $r = 2\\sin(3θ)$. Použijte funkci plot a nastavte barvu, osy a titulek.\n"
   ]
  },
  {
   "cell_type": "code",
   "execution_count": null,
   "metadata": {},
   "outputs": [],
   "source": [
    "import matplotlib.pyplot as plt\n",
    "import numpy as np\n",
    "\n",
    "fig = plt.figure(figsize=(4,4))\n",
    "ax = fig.add_axes([0.0, 0.0, 1, 1], polar=True)\n",
    "t = np.linspace(0, 2, 100)\n",
    "r = 2*np.sin(3*t)\n",
    "\n",
    "ax.plot(t, r, color=\"blue\")\n",
    "ax.set_title(\"Polar graph\")\n",
    "ax.set_xlabel(\"angle\")\n",
    "\n",
    "\n",
    "\n"
   ]
  },
  {
   "attachments": {},
   "cell_type": "markdown",
   "metadata": {},
   "source": [
    "\n",
    "4. Vygenerujte náhodná data a zobrazte je jako histogram. Nastavte počet binů, barvu a popisky os.\n"
   ]
  },
  {
   "cell_type": "code",
   "execution_count": null,
   "metadata": {},
   "outputs": [],
   "source": [
    "import matplotlib.pyplot as plt\n",
    "import numpy as np\n",
    "\n",
    "n = np.random.randn(1000)\n",
    "plt.hist(n, 50, color='blue')\n",
    "plt.xlabel('axis x')\n",
    "plt.ylabel('axis y')"
   ]
  },
  {
   "attachments": {},
   "cell_type": "markdown",
   "metadata": {},
   "source": [
    "\n",
    "5. Vytvořte 3D surf graf s funkcí $$z = \\cos(\\sqrt{x^2 + y^2})$$\n"
   ]
  },
  {
   "cell_type": "code",
   "execution_count": null,
   "metadata": {},
   "outputs": [],
   "source": [
    "import matplotlib.pyplot as plt\n",
    "import numpy as np\n",
    "import time\n",
    "\n",
    "x = np.linspace(-20, 20, 100)\n",
    "y = np.linspace(-20, 20, 100)\n",
    "X, Y = np.meshgrid(x, y)\n",
    "Z = np.cos(np.sqrt(X**2 + Y**2))\n",
    "\n",
    "fig = plt.figure()\n",
    "ax = fig.add_subplot(projection='3d')\n",
    "ax.plot_surface(X, Y, Z, rstride=1, cstride=1, cmap=\"jet\")"
   ]
  },
  {
   "attachments": {},
   "cell_type": "markdown",
   "metadata": {},
   "source": [
    "# Domácí úkol\n",
    "- Použijte funkce z minulého úkolu `integer_spiral_numpy` a `integer_spiral` a vykreslete spirálu a její sinus pomocí `imshow` a `contour`.\n",
    "- měřte časy výpočtu pro různé hodnoty mezi 11 a 1001 a porovnejte je.\n",
    "- vykreslete log-log (obě osy v logaritmickém měřítku) graf obou časů do jednoho grafu.\n",
    "- nastavte popisky, legendu a osy\n",
    "- co vypovídají tyto grafy o výpočetních náročnostech obou funkcí? co reprezentuje sklon lineárního grafu v log-log grafu? "
   ]
  },
  {
   "cell_type": "code",
   "execution_count": null,
   "metadata": {},
   "outputs": [],
   "source": [
    "import matplotlib.pyplot as plt\n",
    "import numpy as np\n",
    "\n",
    "\n",
    "def integer_spiral(n):\n",
    "    A = np.zeros((n + 2, n + 2))\n",
    "\n",
    "    pos_row = n//2 + 1\n",
    "    pos_col = n//2 + 1\n",
    "    i = 1\n",
    "\n",
    "    A[pos_row, pos_col] = i\n",
    "    i += 1\n",
    "    pos_row -= 1\n",
    "\n",
    "    while i <= n**2:\n",
    "        A[pos_row, pos_col] = i\n",
    "        i += 1\n",
    "        if A[pos_row - 1, pos_col] != 0 and A[pos_row, pos_col + 1] == 0:\n",
    "            pos_col += 1\n",
    "        elif A[pos_row, pos_col - 1] != 0:\n",
    "            pos_row -= 1\n",
    "        elif A[pos_row + 1, pos_col] != 0:\n",
    "            pos_col -= 1\n",
    "        else:\n",
    "            pos_row += 1\n",
    "    return A[1:-1, 1:-1]\n",
    "\n",
    "\n",
    "def integer_spiral_numpy(n):\n",
    "    if n % 2 == 0 and n > 1:\n",
    "        raise Exception(\"n should be divisible by 2\")\n",
    "\n",
    "    matrix = np.zeros((n + 2, n + 2))\n",
    "    m = int(n / 2) + 1\n",
    "\n",
    "    matrix[m, m] = 1\n",
    "\n",
    "    for i in range(m + 1):\n",
    "        a = np.arange(i* 2)+(i**2 - (i - 1)**2)**2 + 1\n",
    "        if i > 0:\n",
    "            matrix[m - i, m - i:m + i] = a[::-1]\n",
    "            a += i * 2\n",
    "            matrix[m - i + 1:m + i + 1, m - i] = a\n",
    "            a += i * 2\n",
    "            matrix[m + i, m - i + 1:m + i + 1] = a\n",
    "            a += i * 2\n",
    "            matrix[m - i:m + i, m + i] = a[::-1]\n",
    "\n",
    "    return matrix[1:-1, 1:-1]\n",
    "\n",
    "\n",
    "fig, ax = plt.subplots(1, 2, figsize=(15,5))\n",
    "x = np.linspace(-20, 20, 100)\n",
    "y = np.linspace(-20, 20, 100)\n",
    "X, Y = np.meshgrid(x, y)\n",
    "Z = integer_spiral_numpy(101)\n",
    "\n",
    "ax[0].imshow(Z)\n",
    "ax[0].set_title('Integer spiral')\n",
    "\n",
    "Z = np.sin(integer_spiral_numpy(101))\n",
    "ax[1].set_title('Integer spiral (sinus)')\n",
    "ax[1].imshow(Z)"
   ]
  },
  {
   "attachments": {},
   "cell_type": "markdown",
   "metadata": {},
   "source": [
    "# Bonusový úkol\n",
    "Použijte funkci `polyfit` z knihovny `numpy` pro logaritmicky transponované časy a počty prvků a zjistěte koeficient u lineární funkce při aproximaci polynomem 1. stupně.\n",
    "\n",
    "Vykreslete lineární aproximace získané funkci `polyfit` do log-log grafu společne s naměřenými daty."
   ]
  },
  {
   "cell_type": "code",
   "execution_count": null,
   "metadata": {},
   "outputs": [],
   "source": []
  }
 ],
 "metadata": {
  "kernelspec": {
   "display_name": "Python 3",
   "language": "python",
   "name": "python3"
  },
  "language_info": {
   "name": "python",
   "version": "3.10.9"
  },
  "orig_nbformat": 4
 },
 "nbformat": 4,
 "nbformat_minor": 2
}